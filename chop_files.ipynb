{
 "cells": [
  {
   "cell_type": "code",
   "execution_count": 2,
   "metadata": {},
   "outputs": [],
   "source": [
    "import os\n",
    "import pydub"
   ]
  },
  {
   "cell_type": "code",
   "execution_count": 14,
   "metadata": {},
   "outputs": [
    {
     "name": "stdout",
     "output_type": "stream",
     "text": [
      "TechHouse\n",
      "MinimalTechno\n",
      "HardTrance\n",
      "Trance\n",
      "HardDubTechno\n",
      "ProgressiveTrance\n",
      "DeepDubTechno\n",
      "AmsterdamTechHouse\n",
      "DubTechno\n",
      "TechHouseWav\n",
      "MinimalTechnoWav\n",
      "HardTranceWav\n",
      "TranceWav\n",
      "HardDubTechnoWav\n",
      "ProgressiveTranceWav\n",
      "DeepDubTechnoWav\n",
      "AmsterdamTechHouseWav\n",
      "DubTechnoWav\n"
     ]
    }
   ],
   "source": [
    "# Set dirs and identify genres\n",
    "dir = os.getcwd()\n",
    "musicdir = \"/Volumes/LaCie/Music/Genres/\"\n",
    "gnrs = os.listdir(musicdir)\n",
    "if os.path.isdir(dir+\"/genres\")!=True:\n",
    "    os.mkdir(dir+\"/genres\")\n",
    "genresdir = dir+\"/genres/\"\n",
    "\n",
    "for genre in gnrs:\n",
    "    if genre.startswith(\".\")!=True:\n",
    "        print(genre)\n",
    "        if os.path.isdir(genresdir+genre+\"Wav\") != True:\n",
    "            os.mkdir(genresdir+genre+\"Wav\")\n",
    "print(\"---------\")\n",
    "genres = os.listdir(genresdir)\n",
    "for genre in genres:\n",
    "    print(genre)"
   ]
  },
  {
   "cell_type": "code",
   "execution_count": null,
   "metadata": {},
   "outputs": [],
   "source": [
    "# Clip songs to 30s with attributes (MONO, 16bit, 22050Hz)\n",
    "\n",
    "# Rename songs to genreXXXXX.wav, and place in proper folder\n",
    "\n"
   ]
  }
 ],
 "metadata": {
  "kernelspec": {
   "display_name": "Python 3.10.6 ('main')",
   "language": "python",
   "name": "python3"
  },
  "language_info": {
   "codemirror_mode": {
    "name": "ipython",
    "version": 3
   },
   "file_extension": ".py",
   "mimetype": "text/x-python",
   "name": "python",
   "nbconvert_exporter": "python",
   "pygments_lexer": "ipython3",
   "version": "3.10.6"
  },
  "orig_nbformat": 4,
  "vscode": {
   "interpreter": {
    "hash": "192f66b2935ef42692fc263227763c9fe3f0f0688c49346820279b09123cde66"
   }
  }
 },
 "nbformat": 4,
 "nbformat_minor": 2
}
