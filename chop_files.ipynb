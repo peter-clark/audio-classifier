{
 "cells": [
  {
   "cell_type": "code",
   "execution_count": 10,
   "metadata": {},
   "outputs": [],
   "source": [
    "import os\n",
    "import pydub\n",
    "import re"
   ]
  },
  {
   "cell_type": "code",
   "execution_count": 7,
   "metadata": {},
   "outputs": [
    {
     "name": "stdout",
     "output_type": "stream",
     "text": [
      "---------\n",
      "TechHouseWav: 0\n",
      "MinimalTechnoWav: 0\n",
      "HardTranceWav: 0\n",
      "TranceWav: 0\n",
      "HardDubTechnoWav: 0\n",
      "ProgressiveTranceWav: 0\n",
      "DeepDubTechnoWav: 0\n",
      "AmsterdamTechHouseWav: 0\n",
      "DubTechnoWav: 0\n"
     ]
    }
   ],
   "source": [
    "# Set dirs and identify genres\n",
    "dir = os.getcwd()\n",
    "musicdir = \"/Volumes/LaCie/Music/Genres/\"\n",
    "gnrs = os.listdir(musicdir)\n",
    "if os.path.isdir(dir+\"/genres\")!=True:\n",
    "    os.mkdir(dir+\"/genres\")\n",
    "genresdir = dir+\"/genres/\"\n",
    "\n",
    "for genre in gnrs:\n",
    "    if genre.startswith(\".\")!=True:\n",
    "        #print(genre)\n",
    "        if os.path.isdir(genresdir+genre+\"Wav\") != True:\n",
    "            os.mkdir(genresdir+genre+\"Wav\")\n",
    "print(\"---------\")\n",
    "genres = os.listdir(genresdir)\n",
    "for genre in genres:\n",
    "    print(f\"{genre}: {len(os.listdir(genresdir+genre))}\")"
   ]
  },
  {
   "cell_type": "code",
   "execution_count": 44,
   "metadata": {},
   "outputs": [],
   "source": [
    "def file_to_wav(file, output_file, filetype):\n",
    "    output_file = re.sub(r'[ ]','_', output_file)\n",
    "    # If doesn't exist yet.\n",
    "    if os.path.isfile(output_file) != True:\n",
    "        sound = pydub.AudioSegment.from_file(file)\n",
    "        print(f\"Saved: {output_file}\")\n",
    "        sound.export(output_file, format=\"wav\")\n",
    "    else:\n",
    "        print(\"Already saved.\")\n",
    "\n",
    "def clean_filenames(filename):\n",
    "    # Remove any symbols that may cause an issue\n",
    "    clean_filename = re.sub(r'[<>:\"/\\\\|?*]','',filename)\n",
    "    return clean_filename"
   ]
  },
  {
   "cell_type": "code",
   "execution_count": null,
   "metadata": {},
   "outputs": [],
   "source": [
    "# Convert songs and rename to genreXXXXX.wav\n",
    "input_dir = musicdir\n",
    "target_dir = genresdir\n",
    "print(f\"{input_dir} -- {target_dir}\")\n",
    "\n",
    "\n",
    "input_genres = [f for f in os.listdir(input_dir) if not f.startswith(\".\")]\n",
    "print(input_genres)\n",
    "\n",
    "# iterate through genre folder in music dir\n",
    "# for each file in genre, clean filename, convert to wav, save in targetdir\n",
    "for genre in range(len(input_genres)):\n",
    "    l = os.listdir(input_dir+input_genres[genre]+\"/\")\n",
    "    for song in range(len(l)):\n",
    "        if not l[song].startswith(\".\"):\n",
    "            name = clean_filenames(l[song])\n",
    "            path = input_dir+input_genres[genre]+\"/\"+name\n",
    "            outpath = target_dir+input_genres[genre]+\"Wav/\"+name[:-4]+\".wav\"\n",
    "            #print(f\"{name}  {outpath}\")\n",
    "            filetype = 1 if path.endswith(\".mp3\")==True else 2\n",
    "            file_to_wav(path, outpath, filetype)\n",
    "\n",
    "\n",
    "# Clip songs to 30s with attributes (MONO, 16bit, 22050Hz)\n"
   ]
  }
 ],
 "metadata": {
  "kernelspec": {
   "display_name": "Python 3.10.6 ('main')",
   "language": "python",
   "name": "python3"
  },
  "language_info": {
   "codemirror_mode": {
    "name": "ipython",
    "version": 3
   },
   "file_extension": ".py",
   "mimetype": "text/x-python",
   "name": "python",
   "nbconvert_exporter": "python",
   "pygments_lexer": "ipython3",
   "version": "3.10.6"
  },
  "orig_nbformat": 4,
  "vscode": {
   "interpreter": {
    "hash": "192f66b2935ef42692fc263227763c9fe3f0f0688c49346820279b09123cde66"
   }
  }
 },
 "nbformat": 4,
 "nbformat_minor": 2
}
